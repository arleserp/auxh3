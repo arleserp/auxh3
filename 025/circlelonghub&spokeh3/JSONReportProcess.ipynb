{
 "cells": [
  {
   "cell_type": "code",
   "execution_count": 7,
   "metadata": {},
   "outputs": [],
   "source": [
    "import json\n",
    "import seaborn as sns \n",
    "import pprint as pp\n",
    "import pandas as pd\n",
    "import numpy as np\n",
    "import matplotlib.pyplot as plt\n",
    "import statistics"
   ]
  },
  {
   "cell_type": "code",
   "execution_count": 6,
   "metadata": {},
   "outputs": [],
   "source": [
    "def get_network_name(name):\n",
    "    if \"e+15+v+14\" in name:\n",
    "        return \"microservices\"\n",
    "    if \"e+1273+v+512\" in name:\n",
    "        return \"AS\"\n",
    "    if \"spokecommunitycircle\" in name:  \n",
    "        return \"spoke community\"\n",
    "    if \"communitycircle\" in name:  \n",
    "        return \"community\"\n",
    "    if \"circlelonghub\" in name:  \n",
    "        return \"circle long hub & spoke\"\n",
    "    if \"circle\" in name:  \n",
    "        return \"circle\"\n",
    "    if \"foresthubandspoke\" in name:\n",
    "        return \"forest hub & spoke\"\n",
    "    if \"longforesthubandspoke\" in name:\n",
    "        return \"long forest hub & spoke\"\n",
    "    if \"hubandspoke\" in name:\n",
    "        return \"hub & spoke\"\n",
    "    if \"scalefree\" in name:\n",
    "        return \"scalefree\"\n",
    "    if \"smallworld\" in name:\n",
    "        return \"smallworld\"\n",
    "    "
   ]
  },
  {
   "cell_type": "code",
   "execution_count": 8,
   "metadata": {},
   "outputs": [],
   "source": [
    "def gen_graph(roundData, maxIter, cat, network, pf):\n",
    "    x = list(range(maxIter))\n",
    "    avgs = []\n",
    "    medians = []\n",
    "    stdev = []\n",
    "    difsmax = []\n",
    "    difsmin = []\n",
    "    for k in roundData.keys():   \n",
    "        lst = roundData[k]\n",
    "        avg = sum(lst) / len(lst)\n",
    "        med = statistics.median(lst)\n",
    "        medians.append(med)\n",
    "        avgs.append(avg)\n",
    "        var = sum((x-avg)**2 for x in lst) / len(lst)\n",
    "        std = var**0.5\n",
    "        difsmin.append(avg +std)\n",
    "        difsmax.append(avg-std)\n",
    "        stdev.append(stdev)\n",
    "    fig, ax = plt.subplots()\n",
    "    ax.plot(x, avgs, '-')\n",
    "    plt.ylim(0, 1)\n",
    "    ax.fill_between(x, difsmin, difsmax, alpha=0.2)\n",
    "    ax.set_xlabel('round number')  # Add an x-label to the axes.\n",
    "    ax.set_ylabel(cat)  # Add a y-label to the axes.\n",
    "    ax.set_title(network + \" pf=\" + pf)  # Add a title to the axes.\n",
    "    #ax.legend()  # Add a legend.\n",
    "    \n",
    "    \n",
    "def load_JSON(cat):\n",
    "    folder = './jsonDataReport'\n",
    "    roundData = {}\n",
    "    import os    \n",
    "    files = os.listdir(folder)\n",
    "    for fname in files:\n",
    "        with open(folder+'/'+fname, \"r\") as f:\n",
    "            data = json.load(f)            \n",
    "        network = get_network_name(fname)\n",
    "        maxIter = int(data['maxIter'][0])\n",
    "        pf = str(data['pf'][0])\n",
    "        nhopsPrune = int(data['nhopsPrune'][0])        \n",
    "        for i in range(maxIter):            \n",
    "             df = pd.DataFrame(data[str(i)].values())             \n",
    "             if i not in roundData:               \n",
    "                 roundData[i] = []                    \n",
    "             roundData[i].extend(df[cat].tolist())            \n",
    "    return maxIter, roundData, network, pf"
   ]
  },
  {
   "cell_type": "code",
   "execution_count": 9,
   "metadata": {},
   "outputs": [
    {
     "data": {
      "image/png": "[encoded data removed]",
      "text/plain": [
       "<Figure size 432x288 with 1 Axes>"
      ]
     },
     "metadata": {
      "needs_background": "light"
     },
     "output_type": "display_data"
    }
   ],
   "source": [
    "cat = 'percinfo'\n",
    "maxIter, roundData, network, pf = load_JSON(cat)\n",
    "gen_graph(roundData, maxIter, cat, network, pf)"
   ]
  },
  {
   "cell_type": "code",
   "execution_count": 10,
   "metadata": {},
   "outputs": [
    {
     "data": {
      "image/png": "[encoded data removed]",
      "text/plain": [
       "<Figure size 432x288 with 1 Axes>"
      ]
     },
     "metadata": {
      "needs_background": "light"
     },
     "output_type": "display_data"
    }
   ],
   "source": [
    "cat = 'percinfohop'\n",
    "maxIter, roundData, network, pf = load_JSON(cat)\n",
    "gen_graph(roundData, maxIter, cat, network, pf)"
   ]
  }
 ],
 "metadata": {
  "kernelspec": {
   "display_name": "Python 3",
   "language": "python",
   "name": "python3"
  },
  "language_info": {
   "codemirror_mode": {
    "name": "ipython",
    "version": 3
   },
   "file_extension": ".py",
   "mimetype": "text/x-python",
   "name": "python",
   "nbconvert_exporter": "python",
   "pygments_lexer": "ipython3",
   "version": "3.7.3"
  }
 },
 "nbformat": 4,
 "nbformat_minor": 4
}
